{
 "cells": [
  {
   "cell_type": "code",
   "execution_count": 78,
   "metadata": {},
   "outputs": [],
   "source": [
    "import os\n",
    "import random\n",
    "import smart_open\n",
    "import gensim"
   ]
  },
  {
   "cell_type": "code",
   "execution_count": 79,
   "metadata": {},
   "outputs": [],
   "source": [
    "#The dataset chosen is 'lee' dataset. Documents in this dataset typically consists of one paragraph. There are in total 350 documents in this dataset \n",
    "#training set => 300 documents\n",
    "#test set => 50 documents\n",
    "test_data_dir = '{}'.format(os.sep).join([gensim.__path__[0], 'test', 'test_data'])\n",
    "lee_train_file = test_data_dir + os.sep + 'lee_background.cor'\n",
    "lee_test_file = test_data_dir + os.sep + 'lee.cor'"
   ]
  },
  {
   "cell_type": "code",
   "execution_count": 80,
   "metadata": {},
   "outputs": [],
   "source": [
    "#preprocessing train data => word_tokenize and remove punctutations\n",
    "def read_train(fname):\n",
    "    with smart_open.smart_open(fname, encoding=\"iso-8859-1\") as f:\n",
    "        for i, line in enumerate(f):\n",
    "            yield gensim.models.doc2vec.TaggedDocument(gensim.utils.simple_preprocess(line), [i])\n",
    "\n",
    "train_corpus = list(read_train(lee_train_file))"
   ]
  },
  {
   "cell_type": "code",
   "execution_count": 81,
   "metadata": {},
   "outputs": [],
   "source": [
    "#preprocessing test data in the same way as train data\n",
    "def read_test(fname):\n",
    "    with smart_open.smart_open(fname, encoding=\"iso-8859-1\") as f:\n",
    "        for i, line in enumerate(f):\n",
    "            yield gensim.utils.simple_preprocess(line)\n",
    "\n",
    "test_corpus = list(read_test(lee_test_file))"
   ]
  },
  {
   "cell_type": "code",
   "execution_count": 82,
   "metadata": {},
   "outputs": [
    {
     "name": "stdout",
     "output_type": "stream",
     "text": [
      "TaggedDocument(['president', 'general', 'pervez', 'musharraf', 'says', 'pakistan', 'wants', 'to', 'defuse', 'the', 'brewing', 'crisis', 'with', 'india', 'but', 'was', 'prepared', 'to', 'respond', 'vigorously', 'to', 'any', 'attack', 'pakistan', 'stands', 'for', 'peace', 'pakistan', 'wants', 'peace', 'pakistan', 'wants', 'to', 'reduce', 'tension', 'he', 'said', 'let', 'the', 'two', 'countries', 'move', 'towards', 'peace', 'and', 'harmony', 'however', 'pakistan', 'has', 'taken', 'all', 'counter', 'measures', 'if', 'any', 'war', 'is', 'thrust', 'on', 'pakistan', 'the', 'pakistan', 'armed', 'forces', 'and', 'the', 'million', 'people', 'of', 'pakistan', 'are', 'fully', 'prepared', 'to', 'face', 'all', 'consequences', 'with', 'all', 'their', 'might', 'the', 'president', 'said', 'he', 'had', 'received', 'the', 'support', 'of', 'all', 'political', 'parties', 'president', 'musharraf', 'also', 'said', 'he', 'welcomed', 'the', 'intervention', 'of', 'the', 'international', 'community', 'in', 'trying', 'to', 'defuse', 'the', 'potentially', 'explosive', 'crisis', 'we', 'would', 'like', 'anybody', 'to', 'play', 'useful', 'and', 'positive', 'role', 'in', 'defusing', 'the', 'tension', 'the', 'united', 'states', 'the', 'european', 'union', 'and', 'the', 'group', 'of', 'eight', 'industrialised', 'nations', 'among', 'others', 'have', 'all', 'called', 'on', 'india', 'and', 'pakistan', 'to', 'exercise', 'restraint', 'and', 'resolve', 'the', 'stand', 'off', 'through', 'dialogue', 'president', 'musharraf', 'repeated', 'his', 'offer', 'of', 'holding', 'talks', 'with', 'indian', 'prime', 'minister', 'atal', 'behari', 'vajpayee', 'am', 'for', 'dialogue', 'and', 'keep', 'on', 'saying', 'this', 'and', 'india', 'keeps', 'on', 'rejecting', 'which', 'gives', 'me', 'feeling', 'that', 'am', 'begging', 'to', 'india', 'if', 'they', 'accept', 'it', 'we', 'do', 'not', 'reject', 'it', 'at', 'all', 'he', 'said', 'on', 'friday', 'he', 'said', 'he', 'was', 'willing', 'to', 'meet', 'prime', 'minister', 'vajpayee', 'on', 'the', 'sidelines', 'of', 'the', 'january', 'south', 'asian', 'association', 'for', 'regional', 'cooperation', 'saarc', 'summit', 'in', 'nepal', 'india', 'ruled', 'out', 'any', 'face', 'to', 'face', 'talks', 'military', 'tensions', 'erupted', 'between', 'india', 'and', 'pakistan', 'after', 'the', 'bloody', 'december', 'raid', 'on', 'the', 'indian', 'parliament', 'india', 'accuses', 'pakistan', 'military', 'intelligence', 'of', 'masterminding', 'the', 'assault', 'but', 'pakistan', 'denies', 'the', 'allegation', 'with', 'both', 'countries', 'massing', 'troops', 'along', 'the', 'border', 'pakistan', 'foreign', 'minister', 'abdul', 'sattar', 'warned', 'saturday', 'that', 'the', 'dispute', 'was', 'growing', 'dangerously', 'tense', 'and', 'any', 'small', 'act', 'of', 'provocation', 'could', 'snowball', 'into', 'conflict', 'president', 'musharraf', 'said', 'one', 'of', 'the', 'goals', 'of', 'sunday', 'meeting', 'was', 'to', 'take', 'stock', 'of', 'the', 'internal', 'situation', 'the', 'domestic', 'environment', 'want', 'to', 'eradicate', 'militancy', 'extremism', 'intolerance', 'from', 'pakistani', 'society', 'and', 'also', 'said', 'would', 'like', 'to', 'eradicate', 'any', 'form', 'of', 'terrorism', 'from', 'the', 'soil', 'of', 'pakistan', 'however', 'he', 'warned', 'the', 'tension', 'that', 'has', 'mounted', 'on', 'our', 'eastern', 'border', 'in', 'fact', 'is', 'creating', 'obstacles', 'and', 'hurdles'], [12])\n",
      "300\n"
     ]
    }
   ],
   "source": [
    "#sample train document\n",
    "print(train_corpus[12])\n",
    "print(len(train_corpus))"
   ]
  },
  {
   "cell_type": "code",
   "execution_count": 83,
   "metadata": {},
   "outputs": [
    {
     "name": "stdout",
     "output_type": "stream",
     "text": [
      "['drug', 'squad', 'detectives', 'have', 'asked', 'the', 'police', 'ombudsman', 'to', 'investigate', 'the', 'taskforce', 'that', 'is', 'examining', 'allegations', 'of', 'widespread', 'corruption', 'within', 'the', 'squad', 'this', 'coincides', 'with', 'the', 'creation', 'of', 'special', 'unit', 'within', 'the', 'taskforce', 'to', 'track', 'the', 'spending', 'of', 'at', 'least', 'serving', 'and', 'former', 'squad', 'members', 'the', 'corruption', 'taskforce', 'codenamed', 'ceja', 'will', 'check', 'tax', 'records', 'and', 'financial', 'statements', 'in', 'bid', 'to', 'establish', 'if', 'any', 'of', 'the', 'suspects', 'have', 'accrued', 'unexplained', 'wealth', 'over', 'the', 'past', 'seven', 'years', 'but', 'drug', 'squad', 'detectives', 'have', 'countered', 'with', 'their', 'own', 'set', 'of', 'allegations', 'complaining', 'to', 'the', 'ombudsman', 'that', 'the', 'internal', 'investigation', 'is', 'flawed', 'biased', 'and', 'over', 'zealous']\n",
      "50\n"
     ]
    }
   ],
   "source": [
    "#sample test document\n",
    "print(test_corpus[12])\n",
    "print(len(test_corpus))"
   ]
  },
  {
   "cell_type": "code",
   "execution_count": 84,
   "metadata": {},
   "outputs": [],
   "source": [
    "#creating doc2vec model and training it on train dataset.\n",
    "model = gensim.models.doc2vec.Doc2Vec(vector_size=50, min_count=2, epochs=50)\n",
    "model.build_vocab(train_corpus)\n",
    "model.train(train_corpus, total_examples=model.corpus_count, epochs=model.epochs)"
   ]
  },
  {
   "cell_type": "code",
   "execution_count": 85,
   "metadata": {},
   "outputs": [
    {
     "data": {
      "text/plain": [
       "array([-0.13270625,  0.09512972, -0.08795411, -0.10251645,  0.05757366,\n",
       "        0.06673998,  0.24308419, -0.12858823, -0.03118136, -0.00537211,\n",
       "        0.03388078,  0.19685769, -0.32362285, -0.08160591, -0.05812686,\n",
       "       -0.10060833, -0.19091047, -0.04901925, -0.01709976,  0.24761358,\n",
       "        0.16995327, -0.13583817, -0.15756229,  0.29302782, -0.18278548,\n",
       "       -0.14364474,  0.12958069, -0.16061226,  0.00894992, -0.0746446 ,\n",
       "        0.09672628,  0.16661008,  0.0102212 ,  0.04128732, -0.31543544,\n",
       "        0.2391256 ,  0.08478929, -0.06208804, -0.02146271, -0.14739004,\n",
       "        0.00327396,  0.21987358, -0.21758032, -0.02214502,  0.07057989,\n",
       "        0.21428053,  0.35280928,  0.3091761 ,  0.2844299 ,  0.51703686],\n",
       "      dtype=float32)"
      ]
     },
     "execution_count": 85,
     "metadata": {},
     "output_type": "execute_result"
    }
   ],
   "source": [
    "#Infer_vector for a sample sentence\n",
    "model.infer_vector(['the', 'goals', 'of', 'sunday', 'meeting'])"
   ]
  },
  {
   "cell_type": "code",
   "execution_count": 86,
   "metadata": {},
   "outputs": [
    {
     "name": "stdout",
     "output_type": "stream",
     "text": [
      "Test Document (38): «they dress in black and disguise their identities with bandannas and sunglasses their logo is an image of the southern cross constellation superimposed with pair of crossed boomerangs which resembles swastika the blackshirts are former husbands aggrieved by their treatment at the hands of their ex wives and the courts who regard themselves as the vanguard of men rights movement in australia and say that their actions will be remembered as marking turning point in history»\n",
      "\n",
      "SIMILAR/DISSIMILAR DOCS PER MODEL Doc2Vec(dm/m,d50,n5,w5,mc2,s0.001,t3):\n",
      "\n",
      "MOST (169, 0.456496924161911): «united nations panel of judges in east timor has found militia gang members guilty of crimes against humanity they were given jail terms up to years for their part in massacre soon after the territory vote for independence two years ago three judge panel found the men guilty of killing two nuns three priests and an indonesian journalist as well as carrying out other murders in east timor los palos district they also found the gang members guilty of torture persecution and forced deportation the court heard how soon after the vote the militia gang members still loyal to indonesia carried out murders burnt several villages and forced residents of los palos to flee their homes they are the first people to be convicted of crimes against humanity in connection with the violence that surrounded east timor vote for independence»\n",
      "\n",
      "MEDIAN (74, 0.20391759276390076): «the united nations security council has authorised multinational force to help keep the peace in the afghan capital of kabul with britain leading the troops and the united states prepared to rescue them in an emergency the member council voted unanimously just two days before vanguard of some british soldiers who will be deployed tomorrow afghanistan new interim government with hamid karzai as prime minister is to be sworn in on the same day the initial mandate for the new force called the international security assistance force isaf is for six months subject to renewal and is under chapter vii of the un charter which allows the use of force the contingents are to help guard government buildings to ensure the new afghan interim government has chance to end years of warfare but the resolution does not give any troop numbers which britain estimates could eventually reach with nato members france turkey italy canada spain and possibly germany among the early arrivals the us military will be in overall charge in case of conflict and would help rescue the new troops in an emergency the new force was established in principle for kabul and its environs as part of un brokered landmark accord signed on december in bonn germany among anti taliban afghan groups the agreement set up an interim government to be followed by transitional government and elections called for in two years foreign minister alexander downer says despite an offer of troops it seems likely australian forces will not be needed for peacekeeping duties in afghanistan»\n",
      "\n",
      "LEAST (291, -0.10698924958705902): «unions and major electricity producer will take part in government sponsored talks this afternoon in bid to end long running dispute over an enterprise bargaining agreement the row has been running nearly two years and has led to work bans as unions press their case the victorian state government has called in yallourn energy and power industry unions to try and resolve the dispute which could lead to blackouts the yallourn power station is victoria third biggest producing fifth of the state electricity despite in principle support for new enterprise bargaining agreement being reached last year it still has not been signed off yallourn energy takes the matter to the industrial relations commission tomorrow seeking compulsory arbitration victoria industrial relations minister monica gould admits the dispute is frustrating we want this matter resolved as soon as possible and the only way to do that is for the parties to sit around the table and negotiate an outcome she said»\n",
      "\n"
     ]
    },
    {
     "name": "stderr",
     "output_type": "stream",
     "text": [
      "/usr/local/lib/python3.5/dist-packages/gensim/matutils.py:737: FutureWarning: Conversion of the second argument of issubdtype from `int` to `np.signedinteger` is deprecated. In future, it will be treated as `np.int64 == np.dtype(int).type`.\n",
      "  if np.issubdtype(vec.dtype, np.int):\n"
     ]
    }
   ],
   "source": [
    "doc_id = random.randint(0, len(test_corpus) - 1) #select a random document from the test dataset\n",
    "inferred_vector = model.infer_vector(test_corpus[doc_id]) # get the infer_vector for the selected document\n",
    "sims = model.docvecs.most_similar([inferred_vector], topn=len(model.docvecs))\n",
    "\n",
    "print('Test Document ({}): «{}»\\n'.format(doc_id, ' '.join(test_corpus[doc_id])))\n",
    "print(u'SIMILAR/DISSIMILAR DOCS PER MODEL %s:\\n' % model)\n",
    "#print the most similar, median similar, least similar documents(from among the training dataset) to test document.\n",
    "for label, index in [('MOST', 0), ('MEDIAN', len(sims)//2), ('LEAST', len(sims) - 1)]:\n",
    "    print(u'%s %s: «%s»\\n' % (label, sims[index], ' '.join(train_corpus[sims[index][0]].words)))"
   ]
  },
  {
   "cell_type": "code",
   "execution_count": 87,
   "metadata": {},
   "outputs": [
    {
     "name": "stdout",
     "output_type": "stream",
     "text": [
      "(169, 0.456496924161911): «united nations panel of judges in east timor has found militia gang members guilty of crimes against humanity they were given jail terms up to years for their part in massacre soon after the territory vote for independence two years ago three judge panel found the men guilty of killing two nuns three priests and an indonesian journalist as well as carrying out other murders in east timor los palos district they also found the gang members guilty of torture persecution and forced deportation the court heard how soon after the vote the militia gang members still loyal to indonesia carried out murders burnt several villages and forced residents of los palos to flee their homes they are the first people to be convicted of crimes against humanity in connection with the violence that surrounded east timor vote for independence»\n",
      "\n",
      "(51, 0.44735291600227356): «russian authorities have sentenced chechen warlord salman raduyev to life in prison for hostage siege in which more than people died salman raduyev is probably the most important chechen fighter russian authorities have ever caught relative of the first chechen president he was at the forefront of the insurgency leading raids against federal troops he was jealous of the achievements of his fellow commanders he resolved to outperform his rival and in january masterminded hostage taking in the neighbouring republic of dagestan apparently the aim was to destabilise dagestan and spread the war to the rest of the caucuses he ran out of luck as russian solders were not prepared to negotiate and cornered raduyev on the chechen border»\n",
      "\n",
      "(24, 0.4423656463623047): «team of police is currently escorting two swiss tourists back to the safety of central australian community after their vehicle sank in sand in the finke river overnight police spokesman says police were called to the area kilometres west of alice springs after an emergency beacon was activated and received by australian search and rescue the tourists had tried to cross the river when their vehicle became submerged in soft sand the spokesman says ground unit also attended but police officers had to walk the final kilometres to reach the stranded swiss nationals who were stuck in the vehicle the tourists and the rescue team are expected to walk for about four hours this morning before driving to the hermansburg community»\n",
      "\n",
      "(242, 0.4350285828113556): «there has been another suicide bomb attack in the middle east this time in jerusalem three people have been injured after an apparent palestinian suicide bomber blew himself up outside the hilton hotel in west jerusalem israeli police say the three were standing at bus stop and were hurt by flying glass when the explosion occurred near an entrance to the former hilton hotel the suicide bombing follows wave of israeli air strikes against palestinian security installations in the west bank and gaza strip after people were killed at the weekend in several suicide bombings»\n",
      "\n",
      "(226, 0.42028677463531494): «the three us soldiers killed by misguided us bomb in afghanistan were from us army special forces unit based at fort campbell kentucky the pentagon said the three were identified as master sergeant jefferson donald davis of tennessee sergeant first class daniel henry petithory of massachusetts and staff sergeant brian cody prosser of california the pentagon said they served in the rd battalion th special forces group based at fort campbell kentucky the three were killed when kilogram bomb dropped by an air force bomber landed too close to their position north of kandahar in southern afghanistan»\n",
      "\n"
     ]
    }
   ],
   "source": [
    "#also printing the top 5 most similar documents to the test document.\n",
    "for index in range(5):\n",
    "     print(u'%s: «%s»\\n' % (sims[index], ' '.join(train_corpus[sims[index][0]].words)))"
   ]
  },
  {
   "cell_type": "code",
   "execution_count": null,
   "metadata": {},
   "outputs": [],
   "source": []
  }
 ],
 "metadata": {
  "kernelspec": {
   "display_name": "Python 3",
   "language": "python",
   "name": "python3"
  },
  "language_info": {
   "codemirror_mode": {
    "name": "ipython",
    "version": 3
   },
   "file_extension": ".py",
   "mimetype": "text/x-python",
   "name": "python",
   "nbconvert_exporter": "python",
   "pygments_lexer": "ipython3",
   "version": "3.5.2"
  }
 },
 "nbformat": 4,
 "nbformat_minor": 2
}
