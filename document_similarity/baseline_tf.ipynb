{
 "cells": [
  {
   "cell_type": "code",
   "execution_count": 72,
   "metadata": {},
   "outputs": [],
   "source": [
    "import os\n",
    "import numpy as np\n",
    "from nltk.tokenize import word_tokenize\n",
    "from nltk.tokenize import RegexpTokenizer\n",
    "punctuations = '''!()-[]{};:'\"\\n\\,<>./?@#$%^&*_~'''\n",
    "from nltk.corpus import stopwords \n",
    "from nltk.stem import PorterStemmer"
   ]
  },
  {
   "cell_type": "code",
   "execution_count": 73,
   "metadata": {},
   "outputs": [],
   "source": [
    "def cosine_similarity(vec1, vec2):\n",
    "    vec1_norm = np.linalg.norm(vec1)\n",
    "    vec2_norm = np.linalg.norm(vec2)\n",
    "    ans = np.dot(vec1, vec2)/ (vec1_norm * vec2_norm)\n",
    "    return ans"
   ]
  },
  {
   "cell_type": "code",
   "execution_count": 74,
   "metadata": {},
   "outputs": [],
   "source": [
    "def term_frequency(doc1_vec, doc2_vec):\n",
    "    dict1= dict()\n",
    "    dict2 = dict()\n",
    "    final_dict = dict()\n",
    "    for i in range(len(doc1_vec)):\n",
    "        if(doc1_vec[i] in dict1):\n",
    "            dict1[doc1_vec[i]]+=1\n",
    "        else:\n",
    "            dict1[doc1_vec[i]]=1\n",
    "        if(doc1_vec[i] not in final_dict):\n",
    "            final_dict[doc1_vec[i]]=1\n",
    "    for i in range(len(doc2_vec)):\n",
    "        if(doc2_vec[i] in dict2):\n",
    "            dict2[doc2_vec[i]]+=1\n",
    "        else:\n",
    "            dict2[doc2_vec[i]]=1\n",
    "        if(doc2_vec[i] not in final_dict):\n",
    "            final_dict[doc2_vec[i]]=1\n",
    "    vec1=[]\n",
    "    vec2=[]\n",
    "    for key in final_dict:\n",
    "        if key in dict1:\n",
    "            vec1.append(dict1[key])\n",
    "        else:\n",
    "            vec1.append(0)\n",
    "        if key in dict2:\n",
    "            vec2.append(dict2[key])\n",
    "        else:\n",
    "            vec2.append(0)\n",
    "    return vec1,vec2"
   ]
  },
  {
   "cell_type": "code",
   "execution_count": 75,
   "metadata": {},
   "outputs": [],
   "source": [
    "def preprocess(doc):\n",
    "    stop_words = set(stopwords.words('english')) \n",
    "    words = word_tokenize(doc)\n",
    "    doc_vec=[]\n",
    "    ps = PorterStemmer()\n",
    "    for word in words:\n",
    "        if word not in stop_words and word not in punctuations:\n",
    "            doc_vec.append(ps.stem(word).lower())\n",
    "    return doc_vec"
   ]
  },
  {
   "cell_type": "code",
   "execution_count": 76,
   "metadata": {},
   "outputs": [],
   "source": [
    "def get_documents(file1,file2):\n",
    "    doc1=''\n",
    "    doc2=''\n",
    "    with open(file1,'r') as f1:\n",
    "        doc1=f1.read()\n",
    "    with open(file2, 'r') as f2:\n",
    "        doc2=f2.read()\n",
    "#     print(doc1)\n",
    "#     print(doc2)\n",
    "    return doc1,doc2"
   ]
  },
  {
   "cell_type": "code",
   "execution_count": 77,
   "metadata": {},
   "outputs": [],
   "source": [
    "def main(file1, file2):\n",
    "    doc1, doc2 = get_documents(file1,file2)\n",
    "    doc1_vec = preprocess(doc1)\n",
    "    doc2_vec = preprocess(doc2)\n",
    "    vec1, vec2 = term_frequency(doc1_vec, doc2_vec)\n",
    "    print(vec1)\n",
    "    print(vec2)\n",
    "    ans = cosine_similarity(vec1,vec2)\n",
    "    return ans\n",
    "    "
   ]
  },
  {
   "cell_type": "code",
   "execution_count": 78,
   "metadata": {},
   "outputs": [
    {
     "name": "stdout",
     "output_type": "stream",
     "text": [
      "[0, 1, 0, 1, 1, 1, 1, 2, 1, 0, 0, 0, 1, 1, 1, 0, 0, 0, 0, 0, 1, 0, 0, 3, 0, 1, 1, 0, 0, 1, 1, 1, 1, 0, 0, 0, 0, 2, 1, 1, 0, 1, 0, 1, 0, 1, 3, 2, 1, 0, 1, 3, 1, 1, 2, 0, 2, 2, 1, 0, 1, 3, 2, 1, 0, 0, 1, 1, 1, 0, 1, 1, 1, 0, 0, 0, 0, 1, 1, 0, 1, 0, 1]\n",
      "[1, 0, 1, 0, 1, 0, 0, 0, 0, 1, 1, 1, 0, 0, 0, 1, 1, 1, 1, 1, 0, 1, 1, 1, 1, 0, 0, 1, 1, 0, 0, 0, 0, 1, 1, 1, 1, 0, 0, 0, 1, 0, 1, 0, 1, 0, 0, 0, 0, 1, 0, 0, 0, 0, 0, 1, 0, 0, 0, 1, 0, 0, 0, 0, 1, 1, 0, 0, 0, 1, 0, 0, 0, 1, 1, 1, 1, 0, 1, 1, 0, 2, 0]\n",
      "Similarity = 0.07827803638564369\n"
     ]
    }
   ],
   "source": [
    "ans = main(\"./file1.txt\", \"./file2.txt\")\n",
    "print(\"Similarity = \" + str(ans))"
   ]
  },
  {
   "cell_type": "code",
   "execution_count": null,
   "metadata": {},
   "outputs": [],
   "source": []
  }
 ],
 "metadata": {
  "kernelspec": {
   "display_name": "Python 3",
   "language": "python",
   "name": "python3"
  },
  "language_info": {
   "codemirror_mode": {
    "name": "ipython",
    "version": 3
   },
   "file_extension": ".py",
   "mimetype": "text/x-python",
   "name": "python",
   "nbconvert_exporter": "python",
   "pygments_lexer": "ipython3",
   "version": "3.5.2"
  }
 },
 "nbformat": 4,
 "nbformat_minor": 2
}
