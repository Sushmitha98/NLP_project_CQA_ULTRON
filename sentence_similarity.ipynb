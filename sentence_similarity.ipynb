{
 "cells": [
  {
   "cell_type": "code",
   "execution_count": 202,
   "metadata": {
    "scrolled": true
   },
   "outputs": [],
   "source": [
    "import fasttext\n",
    "import numpy as np\n",
    "import math\n",
    "from numpy import linalg as lin\n",
    "from nltk.tokenize import word_tokenize\n",
    "from nltk.tokenize import RegexpTokenizer\n",
    "import gensim\n",
    "from gensim.models import Word2Vec \n",
    "punctuations = '''!()-[]{};:'\"\\,<>./?@#$%^&*_~'''"
   ]
  },
  {
   "cell_type": "code",
   "execution_count": 203,
   "metadata": {},
   "outputs": [
    {
     "name": "stdout",
     "output_type": "stream",
     "text": [
      "7247443\n"
     ]
    }
   ],
   "source": [
    "word_array=[]\n",
    "with open('./data.txt','r') as f1:\n",
    "    for line in f1:\n",
    "        words=word_tokenize(line)\n",
    "        for i in range(len(words)):\n",
    "            if(words[i] not in punctuations):\n",
    "                word_array.append(words[i].lower())\n",
    "\n",
    "print(len(word_array))"
   ]
  },
  {
   "cell_type": "code",
   "execution_count": null,
   "metadata": {},
   "outputs": [],
   "source": [
    "with open('./sravya_train.txt', 'w') as f1:\n",
    "    for i in range(len(word_array)):\n",
    "        f1.write(word_array[i]+'\\n')\n",
    "\n",
    "model = fasttext.skipgram('./sravya_train.txt', 'model')\n",
    "# model = gensim.models.Word2Vec(word_array, min_count = 1,  \n",
    "#                               size = 100, window = 5) "
   ]
  },
  {
   "cell_type": "code",
   "execution_count": 192,
   "metadata": {},
   "outputs": [],
   "source": [
    "def sent2vec(sent):\n",
    "    words=word_tokenize(sent)\n",
    "    final_words=[]\n",
    "    for i in range(len(words)):\n",
    "        if(words[i] not in punctuations):\n",
    "            final_words.append(words[i].lower())\n",
    "    ans=[]\n",
    "    for i in range(100):\n",
    "        ans.append(0)\n",
    "    for i in range(len(final_words)):\n",
    "        val=model[final_words[i]]\n",
    "        for j in range(len(ans)):\n",
    "            ans[j]+=val[j]\n",
    "    n=len(final_words)\n",
    "    if(n!=0):\n",
    "        for i in range(len(ans)):\n",
    "            ans[i]=ans[i]/n\n",
    "#     print(ans)\n",
    "    return ans"
   ]
  },
  {
   "cell_type": "code",
   "execution_count": 193,
   "metadata": {},
   "outputs": [],
   "source": [
    "def cosine_similarity(vec1,vec2):\n",
    "    mag1=0\n",
    "    mag2=0\n",
    "    num=0\n",
    "    for i in range(100):\n",
    "        mag1+=(vec1[i]*vec1[i])\n",
    "        mag2+=(vec2[i]*vec2[i])\n",
    "        num+=(vec1[i]*vec2[i])\n",
    "    mag=mag1*mag2\n",
    "    mag=math.sqrt(mag)\n",
    "    if(mag==0):\n",
    "        return -10\n",
    "    ans=num/mag\n",
    "    return ans"
   ]
  },
  {
   "cell_type": "code",
   "execution_count": 194,
   "metadata": {},
   "outputs": [
    {
     "name": "stdout",
     "output_type": "stream",
     "text": [
      "0.9999624835339601\n"
     ]
    }
   ],
   "source": [
    "sent1=\"This is a new sentence\"\n",
    "sent2=\"Panipuri is famous in Delhi\"\n",
    "vec1=sent2vec(sent1)\n",
    "vec2=sent2vec(sent2)\n",
    "# for i in range(100):\n",
    "#     print(str(vec1[i])+'\\t'+str(vec2[i]))\n",
    "ans=cosine_similarity(vec1,vec2)\n",
    "print(ans)"
   ]
  },
  {
   "cell_type": "code",
   "execution_count": 195,
   "metadata": {},
   "outputs": [],
   "source": [
    "train_array=[]\n",
    "train_ans=[]\n",
    "with open('train_q1.txt','r') as f1:\n",
    "    with open('train_q2.txt','r') as f2:\n",
    "        with open('train-ans.txt','r') as f3:\n",
    "            for line1,line2,line3 in zip(f1,f2,f3):\n",
    "                sent1=sent2vec(line1)\n",
    "                sent2=sent2vec(line2)\n",
    "                val1=cosine_similarity(sent1,sent2)\n",
    "                if(val1!=-10):\n",
    "                    sravya=[val1,1.00]\n",
    "                    train_array.append(sravya)\n",
    "                    train_ans.append(line3.strip('\\n'))\n",
    "\n",
    "for i in range(len(train_array)):\n",
    "    ans=1+(train_array[i][0]**2)\n",
    "    ans=math.sqrt(ans)\n",
    "    train_array[i][0]/=ans\n",
    "    train_array[i][1]/=ans"
   ]
  },
  {
   "cell_type": "code",
   "execution_count": 199,
   "metadata": {},
   "outputs": [
    {
     "name": "stderr",
     "output_type": "stream",
     "text": [
      "/usr/local/lib/python3.5/dist-packages/ipykernel_launcher.py:11: RuntimeWarning: overflow encountered in double_scalars\n",
      "  # This is added back by InteractiveShellApp.init_path()\n"
     ]
    }
   ],
   "source": [
    "w_matrix=np.zeros((2,2))\n",
    "rows=len(train_array)\n",
    "\n",
    "for it in range(10):\n",
    "    delta_j=np.zeros((2,2))\n",
    "    for j in range(2):\n",
    "        for k in range(rows):\n",
    "            prob=(math.e)**(w_matrix[j][0]*train_array[k][0] + w_matrix[j][1]*train_array[k][1])           \n",
    "            total=0\n",
    "            for p in range(2):\n",
    "                total+=((math.e)**(w_matrix[p][0]*train_array[k][0] + w_matrix[p][1]*train_array[k][1]))\n",
    "            prob = prob/total\n",
    "            if((j==0 and train_ans[k]=='0') or (j==1 and train_ans[k]=='1')):\n",
    "                prob=1-prob\n",
    "            else:\n",
    "                prob=-prob\n",
    "            delta_j[j]-=np.multiply(train_array[k],prob)\n",
    "        w_matrix[j]-=np.multiply(delta_j[j],0.1)\n",
    "    val=w_matrix[0][0]**2 + w_matrix[0][1]**2\n",
    "    val=math.sqrt(val)\n",
    "    w_matrix[0][0]/=val\n",
    "    w_matrix[0][1]/=val\n",
    "    val=w_matrix[1][0]**2 + w_matrix[1][1]**2\n",
    "    val=math.sqrt(val)\n",
    "    w_matrix[1][0]/=val\n",
    "    w_matrix[1][1]/=val   "
   ]
  },
  {
   "cell_type": "code",
   "execution_count": 200,
   "metadata": {},
   "outputs": [
    {
     "name": "stdout",
     "output_type": "stream",
     "text": [
      "[[0.70698929 0.70722425]\n",
      " [0.70695283 0.7072607 ]]\n"
     ]
    }
   ],
   "source": [
    "print(w_matrix)"
   ]
  },
  {
   "cell_type": "code",
   "execution_count": 201,
   "metadata": {},
   "outputs": [
    {
     "name": "stdout",
     "output_type": "stream",
     "text": [
      "210\n",
      "240\n",
      "11\n",
      "161\n",
      "221\n",
      "401\n"
     ]
    }
   ],
   "source": [
    "acc=0\n",
    "cnt1=0\n",
    "cnt2=0\n",
    "cnt=0\n",
    "acc1=0\n",
    "acc2=0\n",
    "with open('q1.txt','r') as f1:\n",
    "    with open('q2.txt','r') as f2:\n",
    "        with open('answers.txt','r') as f3:\n",
    "            for line1,line2,line3 in zip(f1,f2,f3):\n",
    "                cnt+=1\n",
    "                if(line1!='\\n' and line2!='\\n' and line3!='\\n'):\n",
    "                    sent1=sent2vec(line1)\n",
    "                    sent2=sent2vec(line2)\n",
    "                    val=0\n",
    "                    val1=cosine_similarity(sent1,sent2)\n",
    "                    val11=(math.e)**(val1*w_matrix[0][0]+w_matrix[0][1])\n",
    "                    val12=(math.e)**(val1*w_matrix[1][0]+w_matrix[1][1])\n",
    "                    if(val11>=val12):\n",
    "                        val=0\n",
    "                    else:\n",
    "                        val=1\n",
    "                    if(line3.strip('\\n')=='1' and val==1):\n",
    "                        acc2+=1\n",
    "                    if(line3.strip('\\n')=='0' and val==0):\n",
    "                        acc1+=1\n",
    "                    if(line3.strip('\\n')=='1'):\n",
    "                        cnt2+=1\n",
    "                    if(line3.strip('\\n')=='0'):\n",
    "                        cnt1+=1\n",
    "         \n",
    "acc=acc1+acc2\n",
    "print(acc1)\n",
    "print(cnt1)\n",
    "print(acc2)\n",
    "print(cnt2)\n",
    "print(acc)\n",
    "print(cnt)"
   ]
  },
  {
   "cell_type": "code",
   "execution_count": null,
   "metadata": {},
   "outputs": [],
   "source": []
  },
  {
   "cell_type": "code",
   "execution_count": null,
   "metadata": {},
   "outputs": [],
   "source": []
  }
 ],
 "metadata": {
  "kernelspec": {
   "display_name": "Python 3",
   "language": "python",
   "name": "python3"
  },
  "language_info": {
   "codemirror_mode": {
    "name": "ipython",
    "version": 3
   },
   "file_extension": ".py",
   "mimetype": "text/x-python",
   "name": "python",
   "nbconvert_exporter": "python",
   "pygments_lexer": "ipython3",
   "version": "3.5.2"
  }
 },
 "nbformat": 4,
 "nbformat_minor": 2
}
