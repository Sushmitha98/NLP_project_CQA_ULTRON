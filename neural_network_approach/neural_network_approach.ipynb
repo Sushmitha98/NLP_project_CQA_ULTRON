{
 "cells": [
  {
   "cell_type": "code",
   "execution_count": 1,
   "metadata": {},
   "outputs": [
    {
     "name": "stderr",
     "output_type": "stream",
     "text": [
      "/home/sushmitha/tmp/new/lib/python3.6/site-packages/h5py/__init__.py:34: FutureWarning: Conversion of the second argument of issubdtype from `float` to `np.floating` is deprecated. In future, it will be treated as `np.float64 == np.dtype(float).type`.\n",
      "  from ._conv import register_converters as _register_converters\n",
      "Using TensorFlow backend.\n"
     ]
    }
   ],
   "source": [
    "from time import time\n",
    "import pandas as pd\n",
    "import numpy as np\n",
    "from gensim.models import KeyedVectors\n",
    "import re\n",
    "from nltk.corpus import stopwords\n",
    "from sklearn.model_selection import train_test_split\n",
    "import matplotlib.pyplot as plt\n",
    "\n",
    "\n",
    "import itertools\n",
    "import datetime\n",
    "\n",
    "from keras.preprocessing.sequence import pad_sequences\n",
    "from keras.models import Model\n",
    "from keras.layers import Input, Embedding, LSTM, Lambda\n",
    "import keras.backend as K\n",
    "from keras.optimizers import Adadelta\n"
   ]
  },
  {
   "cell_type": "code",
   "execution_count": 2,
   "metadata": {
    "collapsed": true
   },
   "outputs": [],
   "source": [
    "TRAIN_CSV = 'train.csv'\n",
    "TEST_CSV = 'test.csv'\n",
    "EMBEDDING_FILE = './GoogleNews-vectors-negative300.bin.gz'\n"
   ]
  },
  {
   "cell_type": "code",
   "execution_count": 3,
   "metadata": {
    "scrolled": true
   },
   "outputs": [
    {
     "name": "stderr",
     "output_type": "stream",
     "text": [
      "/home/sushmitha/tmp/new/lib/python3.6/site-packages/ipykernel_launcher.py:75: FutureWarning: set_value is deprecated and will be removed in a future release. Please use .at[] or .iat[] accessors instead\n"
     ]
    }
   ],
   "source": [
    "train_df = pd.read_csv(TRAIN_CSV)\n",
    "test_df = pd.read_csv(TEST_CSV)\n",
    "\n",
    "stops = set(stopwords.words('english'))\n",
    "\n",
    "def text_to_word_list(text):\n",
    "    ''' Pre process and convert texts to a list of words '''\n",
    "    text = str(text)\n",
    "    text = text.lower()\n",
    "\n",
    "    # Clean the text\n",
    "    text = re.sub(r\"[^A-Za-z0-9^,!.\\/'+-=]\", \" \", text)\n",
    "    text = re.sub(r\"what's\", \"what is \", text)\n",
    "    text = re.sub(r\"\\'s\", \" \", text)\n",
    "    text = re.sub(r\"\\'ve\", \" have \", text)\n",
    "    text = re.sub(r\"can't\", \"cannot \", text)\n",
    "    text = re.sub(r\"n't\", \" not \", text)\n",
    "    text = re.sub(r\"i'm\", \"i am \", text)\n",
    "    text = re.sub(r\"\\'re\", \" are \", text)\n",
    "    text = re.sub(r\"\\'d\", \" would \", text)\n",
    "    text = re.sub(r\"\\'ll\", \" will \", text)\n",
    "    text = re.sub(r\",\", \" \", text)\n",
    "    text = re.sub(r\"\\.\", \" \", text)\n",
    "    text = re.sub(r\"!\", \" ! \", text)\n",
    "    text = re.sub(r\"\\/\", \" \", text)\n",
    "    text = re.sub(r\"\\^\", \" ^ \", text)\n",
    "    text = re.sub(r\"\\+\", \" + \", text)\n",
    "    text = re.sub(r\"\\-\", \" - \", text)\n",
    "    text = re.sub(r\"\\=\", \" = \", text)\n",
    "    text = re.sub(r\"'\", \" \", text)\n",
    "    text = re.sub(r\"(\\d+)(k)\", r\"\\g<1>000\", text)\n",
    "    text = re.sub(r\":\", \" : \", text)\n",
    "    text = re.sub(r\" e g \", \" eg \", text)\n",
    "    text = re.sub(r\" b g \", \" bg \", text)\n",
    "    text = re.sub(r\" u s \", \" american \", text)\n",
    "    text = re.sub(r\"\\0s\", \"0\", text)\n",
    "    text = re.sub(r\" 9 11 \", \"911\", text)\n",
    "    text = re.sub(r\"e - mail\", \"email\", text)\n",
    "    text = re.sub(r\"j k\", \"jk\", text)\n",
    "    text = re.sub(r\"\\s{2,}\", \" \", text)\n",
    "\n",
    "    text = text.split()\n",
    "\n",
    "    return text\n",
    "\n",
    "# Prepare embedding\n",
    "vocabulary = dict()\n",
    "inverse_vocabulary = ['<unk>']  # '<unk>' will never be used, it is only a placeholder for the [0, 0, ....0] embedding\n",
    "word2vec = KeyedVectors.load_word2vec_format(EMBEDDING_FILE, binary=True)\n",
    "\n",
    "questions_cols = ['question1', 'question2']\n",
    "\n",
    "# Iterate over the questions only of both training and test datasets\n",
    "for dataset in [train_df, test_df]:\n",
    "    for index, row in dataset.iterrows():\n",
    "\n",
    "        # Iterate through the text of both questions of the row\n",
    "        for question in questions_cols:\n",
    "\n",
    "            q2n = []  # q2n -> question numbers representation\n",
    "            for word in text_to_word_list(row[question]):\n",
    "\n",
    "                # Check for unwanted words\n",
    "                if word in stops and word not in word2vec.vocab:\n",
    "                    continue\n",
    "\n",
    "                if word not in vocabulary:\n",
    "                    vocabulary[word] = len(inverse_vocabulary)\n",
    "                    q2n.append(len(inverse_vocabulary))\n",
    "                    inverse_vocabulary.append(word)\n",
    "                else:\n",
    "                    q2n.append(vocabulary[word])\n",
    "\n",
    "            # Replace questions as word to question as number representation\n",
    "            dataset.set_value(index, question, q2n)\n",
    "            \n",
    "embedding_dim = 300\n",
    "embeddings = 1 * np.random.randn(len(vocabulary) + 1, embedding_dim)  # This will be the embedding matrix\n",
    "embeddings[0] = 0  # So that the padding will be ignored\n",
    "\n",
    "# Build the embedding matrix\n",
    "for word, index in vocabulary.items():\n",
    "    if word in word2vec.vocab:\n",
    "        embeddings[index] = word2vec.word_vec(word)\n",
    "\n",
    "del word2vec"
   ]
  },
  {
   "cell_type": "code",
   "execution_count": 4,
   "metadata": {},
   "outputs": [
    {
     "name": "stderr",
     "output_type": "stream",
     "text": [
      "/home/sushmitha/tmp/new/lib/python3.6/site-packages/sklearn/model_selection/_split.py:2026: FutureWarning: From version 0.21, test_size will always complement train_size unless both are specified.\n",
      "  FutureWarning)\n"
     ]
    }
   ],
   "source": [
    "\n",
    "\n",
    "# Split to train validation\n",
    "validation_size = 500\n",
    "training_size = len(train_df) - validation_size\n",
    "\n",
    "max_seq_length = max(train_df.question1.map(lambda x: len(x)).max(),\n",
    "                     train_df.question2.map(lambda x: len(x)).max(),\n",
    "                     test_df.question1.map(lambda x: len(x)).max(),\n",
    "                     test_df.question2.map(lambda x: len(x)).max())\n",
    "\n",
    "X = train_df[questions_cols]\n",
    "Y = train_df['is_duplicate']\n",
    "\n",
    "X_train, X_validation, Y_train, Y_validation = train_test_split(X, Y, test_size=validation_size, random_state=1)\n",
    "\n",
    "# Split to dicts\n",
    "X_train = {'left': X_train.question1, 'right': X_train.question2}\n",
    "X_validation = {'left': X_validation.question1, 'right': X_validation.question2}\n",
    "\n",
    "\n",
    "\n",
    "# Convert labels to their numpy representations\n",
    "Y_train = Y_train.values\n",
    "Y_validation = Y_validation.values\n",
    "\n",
    "\n",
    "X = test_df[questions_cols]\n",
    "Y = test_df['is_duplicate']\n",
    "\n",
    "X_test, X_v, Y_test, Y_v = train_test_split(X, Y, train_size=0.9, random_state=1)\n",
    "\n",
    "# Split to dicts\n",
    "X_test = {'left': X_test.question1, 'right': X_test.question2}\n",
    "X_v = {'left': X_v.question1, 'right': X_v.question2}\n",
    "Y_test = Y_test.values\n",
    "# print(X_test)\n",
    "\n",
    "\n",
    "\n",
    "# Zero padding\n",
    "for dataset, side in itertools.product([X_train, X_validation], ['left', 'right']):\n",
    "    dataset[side] = pad_sequences(dataset[side], maxlen=max_seq_length)\n",
    "    \n",
    "    \n",
    "for dataset, side in itertools.product([X_test, X_v], ['left', 'right']):\n",
    "    dataset[side] = pad_sequences(dataset[side], maxlen=max_seq_length)\n",
    "\n",
    "# Make sure everything is ok\n",
    "assert X_train['left'].shape == X_train['right'].shape\n",
    "assert len(X_train['left']) == len(Y_train)\n",
    "\n",
    "\n",
    "assert X_test['left'].shape == X_test['right'].shape\n",
    "assert len(X_test['left']) == len(Y_test)\n",
    "\n"
   ]
  },
  {
   "cell_type": "code",
   "execution_count": 5,
   "metadata": {
    "scrolled": true
   },
   "outputs": [
    {
     "name": "stderr",
     "output_type": "stream",
     "text": [
      "/home/sushmitha/tmp/new/lib/python3.6/site-packages/ipykernel_launcher.py:43: UserWarning: The `nb_epoch` argument in `fit` has been renamed `epochs`.\n"
     ]
    },
    {
     "name": "stdout",
     "output_type": "stream",
     "text": [
      "Train on 2547 samples, validate on 500 samples\n",
      "Epoch 1/20\n",
      "2547/2547 [==============================] - 19s 8ms/step - loss: 0.2502 - acc: 0.6455 - val_loss: 0.2555 - val_acc: 0.6360\n",
      "Epoch 2/20\n",
      "2547/2547 [==============================] - 16s 6ms/step - loss: 0.2324 - acc: 0.6627 - val_loss: 0.2430 - val_acc: 0.6440\n",
      "Epoch 3/20\n",
      "2547/2547 [==============================] - 16s 6ms/step - loss: 0.2180 - acc: 0.6796 - val_loss: 0.2331 - val_acc: 0.6520\n",
      "Epoch 4/20\n",
      "2547/2547 [==============================] - 16s 6ms/step - loss: 0.2060 - acc: 0.7012 - val_loss: 0.2260 - val_acc: 0.6640\n",
      "Epoch 5/20\n",
      "2547/2547 [==============================] - 17s 7ms/step - loss: 0.1961 - acc: 0.7126 - val_loss: 0.2217 - val_acc: 0.6760\n",
      "Epoch 6/20\n",
      "2547/2547 [==============================] - 17s 7ms/step - loss: 0.1878 - acc: 0.7279 - val_loss: 0.2188 - val_acc: 0.6840\n",
      "Epoch 7/20\n",
      "2547/2547 [==============================] - 17s 7ms/step - loss: 0.1805 - acc: 0.7381 - val_loss: 0.2171 - val_acc: 0.6880\n",
      "Epoch 8/20\n",
      "2547/2547 [==============================] - 17s 7ms/step - loss: 0.1741 - acc: 0.7495 - val_loss: 0.2144 - val_acc: 0.6900\n",
      "Epoch 9/20\n",
      "2547/2547 [==============================] - 17s 7ms/step - loss: 0.1682 - acc: 0.7570 - val_loss: 0.2134 - val_acc: 0.6900\n",
      "Epoch 10/20\n",
      "2547/2547 [==============================] - 17s 7ms/step - loss: 0.1629 - acc: 0.7644 - val_loss: 0.2120 - val_acc: 0.6880\n",
      "Epoch 11/20\n",
      "2547/2547 [==============================] - 17s 7ms/step - loss: 0.1582 - acc: 0.7719 - val_loss: 0.2114 - val_acc: 0.6880\n",
      "Epoch 12/20\n",
      "2547/2547 [==============================] - 17s 7ms/step - loss: 0.1538 - acc: 0.7813 - val_loss: 0.2105 - val_acc: 0.6920\n",
      "Epoch 13/20\n",
      "2547/2547 [==============================] - 17s 7ms/step - loss: 0.1496 - acc: 0.7919 - val_loss: 0.2102 - val_acc: 0.6900\n",
      "Epoch 14/20\n",
      "2547/2547 [==============================] - 17s 7ms/step - loss: 0.1459 - acc: 0.8013 - val_loss: 0.2102 - val_acc: 0.6880\n",
      "Epoch 15/20\n",
      "2547/2547 [==============================] - 19s 7ms/step - loss: 0.1425 - acc: 0.8060 - val_loss: 0.2087 - val_acc: 0.6920\n",
      "Epoch 16/20\n",
      "2547/2547 [==============================] - 22s 9ms/step - loss: 0.1393 - acc: 0.8166 - val_loss: 0.2083 - val_acc: 0.7000\n",
      "Epoch 17/20\n",
      "2547/2547 [==============================] - 18s 7ms/step - loss: 0.1364 - acc: 0.8174 - val_loss: 0.2082 - val_acc: 0.6960\n",
      "Epoch 18/20\n",
      "2547/2547 [==============================] - 16s 6ms/step - loss: 0.1334 - acc: 0.8280 - val_loss: 0.2076 - val_acc: 0.6940\n",
      "Epoch 19/20\n",
      "2547/2547 [==============================] - 17s 7ms/step - loss: 0.1307 - acc: 0.8363 - val_loss: 0.2062 - val_acc: 0.6960\n",
      "Epoch 20/20\n",
      "2547/2547 [==============================] - 17s 7ms/step - loss: 0.1287 - acc: 0.8402 - val_loss: 0.2062 - val_acc: 0.6960\n",
      "Training time finished.\n",
      "20 epochs in 0:05:45.791617\n"
     ]
    }
   ],
   "source": [
    "# Model variables\n",
    "n_hidden = 50\n",
    "n_epoch = 20\n",
    "gradient_clipping_norm = 1.25\n",
    "batch_size = 100\n",
    "\n",
    "\n",
    "def exponent_neg_manhattan_distance(left, right):\n",
    "    ''' Helper function for the similarity estimate of the LSTMs outputs'''\n",
    "    return K.exp(-K.sum(K.abs(left-right), axis=1, keepdims=True))\n",
    "\n",
    "# The visible layer\n",
    "left_input = Input(shape=(max_seq_length,), dtype='int32')\n",
    "right_input = Input(shape=(max_seq_length,), dtype='int32')\n",
    "\n",
    "embedding_layer = Embedding(len(embeddings), embedding_dim, weights=[embeddings], input_length=max_seq_length, trainable=False)\n",
    "\n",
    "# Embedded version of the inputs\n",
    "encoded_left = embedding_layer(left_input)\n",
    "encoded_right = embedding_layer(right_input)\n",
    "\n",
    "# Since this is a siamese network, both sides share the same LSTM\n",
    "shared_lstm = LSTM(n_hidden)\n",
    "\n",
    "left_output = shared_lstm(encoded_left)\n",
    "right_output = shared_lstm(encoded_right)\n",
    "\n",
    "# Calculates the distance as defined by the MaLSTM model\n",
    "malstm_distance = Lambda(function=lambda x: exponent_neg_manhattan_distance(x[0], x[1]),output_shape=lambda x: (x[0][0], 1))([left_output, right_output])\n",
    "\n",
    "# Pack it all up into a model\n",
    "malstm = Model([left_input, right_input], [malstm_distance])\n",
    "\n",
    "# Adadelta optimizer, with gradient clipping by norm\n",
    "optimizer = Adadelta(clipnorm=gradient_clipping_norm)\n",
    "\n",
    "malstm.compile(loss='mean_squared_error', optimizer=optimizer, metrics=['accuracy'])\n",
    "\n",
    "# Start training\n",
    "training_start_time = time()\n",
    "\n",
    "malstm_trained = malstm.fit([X_train['left'], X_train['right']], Y_train, batch_size=batch_size, nb_epoch=n_epoch,\n",
    "                            validation_data=([X_validation['left'], X_validation['right']], Y_validation))\n",
    "\n",
    "print(\"Training time finished.\\n{} epochs in {}\".format(n_epoch, datetime.timedelta(seconds=time()-training_start_time)))"
   ]
  },
  {
   "cell_type": "code",
   "execution_count": 6,
   "metadata": {},
   "outputs": [
    {
     "data": {
      "image/png": "[encoded data removed]",
      "text/plain": [
       "<matplotlib.figure.Figure at 0x7f903b192ba8>"
      ]
     },
     "metadata": {},
     "output_type": "display_data"
    },
    {
     "data": {
      "image/png": "[encoded data removed]",
      "text/plain": [
       "<matplotlib.figure.Figure at 0x7f8f503cf9b0>"
      ]
     },
     "metadata": {},
     "output_type": "display_data"
    }
   ],
   "source": [
    "# Plot accuracy\n",
    "plt.plot(malstm_trained.history['acc'])\n",
    "plt.plot(malstm_trained.history['val_acc'])\n",
    "plt.title('Model Accuracy')\n",
    "plt.ylabel('Accuracy')\n",
    "plt.xlabel('Epoch')\n",
    "plt.legend(['Train', 'Validation'], loc='upper left')\n",
    "plt.show()\n",
    "\n",
    "# Plot loss\n",
    "plt.plot(malstm_trained.history['loss'])\n",
    "plt.plot(malstm_trained.history['val_loss'])\n",
    "plt.title('Model Loss')\n",
    "plt.ylabel('Loss')\n",
    "plt.xlabel('Epoch')\n",
    "plt.legend(['Train', 'Validation'], loc='upper right')\n",
    "plt.show()"
   ]
  },
  {
   "cell_type": "code",
   "execution_count": 7,
   "metadata": {},
   "outputs": [
    {
     "name": "stdout",
     "output_type": "stream",
     "text": [
      "452/452 [==============================] - 1s 2ms/step\n",
      "['loss', 'acc']\n",
      "[0.17915104144969873, 0.7389380599545167]\n"
     ]
    }
   ],
   "source": [
    "#test\n",
    "\n",
    "ac = malstm.evaluate([X_test['left'], X_test['right']], Y_test, batch_size=batch_size)\n",
    "\n",
    "print(malstm.metrics_names)\n",
    "print(ac)"
   ]
  },
  {
   "cell_type": "code",
   "execution_count": 8,
   "metadata": {},
   "outputs": [],
   "source": [
    "# test_pred = predict(x, batch_size=None, verbose=0, steps=None)\n",
    "test_pred_prob = malstm.predict([X_test['left'], X_test['right']], batch_size=batch_size)\n",
    "# test_pred_classes =  np.argmax(test_pred_prob, axis=1)\n",
    "# for i in test_pred_classes:\n",
    "#     print (i)\n",
    "# print(test_pred_prob)\n",
    "# print(Y_train)"
   ]
  },
  {
   "cell_type": "code",
   "execution_count": null,
   "metadata": {
    "collapsed": true
   },
   "outputs": [],
   "source": []
  }
 ],
 "metadata": {
  "kernelspec": {
   "display_name": "Python 3",
   "language": "python",
   "name": "python3"
  },
  "language_info": {
   "codemirror_mode": {
    "name": "ipython",
    "version": 3
   },
   "file_extension": ".py",
   "mimetype": "text/x-python",
   "name": "python",
   "nbconvert_exporter": "python",
   "pygments_lexer": "ipython3",
   "version": "3.6.3"
  }
 },
 "nbformat": 4,
 "nbformat_minor": 2
}
